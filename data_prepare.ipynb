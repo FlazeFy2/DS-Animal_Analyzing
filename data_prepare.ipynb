{
 "cells": [
  {
   "cell_type": "code",
   "execution_count": 2,
   "id": "f056bb77-b048-495c-b740-abc711efc3e4",
   "metadata": {},
   "outputs": [
    {
     "name": "stdout",
     "output_type": "stream",
     "text": [
      "Name          object\n",
      "Genus         object\n",
      "Species       object\n",
      "Kingdom       object\n",
      "Subphylum     object\n",
      "Class         object\n",
      "Order         object\n",
      "Family        object\n",
      "Attributes    object\n",
      "dtype: object\n",
      "\n",
      "\n",
      "9 Column\n"
     ]
    }
   ],
   "source": [
    "import pandas as pd\n",
    "import matplotlib.pyplot as plt\n",
    "\n",
    "df = pd.read_csv(\"animals_info new.csv\")\n",
    "\n",
    "# Data Understanding - Variable & Data Type\n",
    "print(df.dtypes)\n",
    "print(\"\\n\")\n",
    "print(f\"{len(df.columns)} Column\")"
   ]
  },
  {
   "cell_type": "code",
   "execution_count": 4,
   "id": "0b2017de-d85e-4c13-9f8c-6d0d9883044f",
   "metadata": {},
   "outputs": [
    {
     "data": {
      "text/plain": [
       "Name            0\n",
       "Genus           6\n",
       "Species         0\n",
       "Kingdom         0\n",
       "Subphylum       0\n",
       "Class           0\n",
       "Order         437\n",
       "Family          3\n",
       "Attributes      0\n",
       "dtype: int64"
      ]
     },
     "execution_count": 4,
     "metadata": {},
     "output_type": "execute_result"
    }
   ],
   "source": [
    "# Data Preparation - Handle Missing Value\n",
    "df.isnull().sum()"
   ]
  },
  {
   "cell_type": "code",
   "execution_count": 6,
   "id": "93322d91-1d34-426d-8928-abb4acd68268",
   "metadata": {},
   "outputs": [
    {
     "data": {
      "text/html": [
       "<div>\n",
       "<style scoped>\n",
       "    .dataframe tbody tr th:only-of-type {\n",
       "        vertical-align: middle;\n",
       "    }\n",
       "\n",
       "    .dataframe tbody tr th {\n",
       "        vertical-align: top;\n",
       "    }\n",
       "\n",
       "    .dataframe thead th {\n",
       "        text-align: right;\n",
       "    }\n",
       "</style>\n",
       "<table border=\"1\" class=\"dataframe\">\n",
       "  <thead>\n",
       "    <tr style=\"text-align: right;\">\n",
       "      <th></th>\n",
       "      <th>Name</th>\n",
       "      <th>Genus</th>\n",
       "      <th>Species</th>\n",
       "      <th>Kingdom</th>\n",
       "      <th>Subphylum</th>\n",
       "      <th>Class</th>\n",
       "      <th>Order</th>\n",
       "      <th>Family</th>\n",
       "      <th>Attributes</th>\n",
       "    </tr>\n",
       "  </thead>\n",
       "  <tbody>\n",
       "    <tr>\n",
       "      <th>count</th>\n",
       "      <td>29357</td>\n",
       "      <td>29351</td>\n",
       "      <td>29357</td>\n",
       "      <td>29357</td>\n",
       "      <td>29357</td>\n",
       "      <td>29357</td>\n",
       "      <td>28920</td>\n",
       "      <td>29354</td>\n",
       "      <td>29357</td>\n",
       "    </tr>\n",
       "    <tr>\n",
       "      <th>unique</th>\n",
       "      <td>29357</td>\n",
       "      <td>6194</td>\n",
       "      <td>28688</td>\n",
       "      <td>416</td>\n",
       "      <td>3</td>\n",
       "      <td>12</td>\n",
       "      <td>123</td>\n",
       "      <td>858</td>\n",
       "      <td>3133</td>\n",
       "    </tr>\n",
       "    <tr>\n",
       "      <th>top</th>\n",
       "      <td>Grey Wolf</td>\n",
       "      <td>Conus</td>\n",
       "      <td>Canidae</td>\n",
       "      <td>Animalia</td>\n",
       "      <td>0</td>\n",
       "      <td>Aves</td>\n",
       "      <td>Passeriformes</td>\n",
       "      <td>Muridae</td>\n",
       "      <td>Terrestrial,Not a migrant,starts with</td>\n",
       "    </tr>\n",
       "    <tr>\n",
       "      <th>freq</th>\n",
       "      <td>1</td>\n",
       "      <td>535</td>\n",
       "      <td>60</td>\n",
       "      <td>28525</td>\n",
       "      <td>18605</td>\n",
       "      <td>10114</td>\n",
       "      <td>5863</td>\n",
       "      <td>764</td>\n",
       "      <td>8463</td>\n",
       "    </tr>\n",
       "  </tbody>\n",
       "</table>\n",
       "</div>"
      ],
      "text/plain": [
       "             Name  Genus  Species   Kingdom Subphylum  Class          Order  \\\n",
       "count       29357  29351    29357     29357     29357  29357          28920   \n",
       "unique      29357   6194    28688       416         3     12            123   \n",
       "top     Grey Wolf  Conus  Canidae  Animalia         0   Aves  Passeriformes   \n",
       "freq            1    535       60     28525     18605  10114           5863   \n",
       "\n",
       "         Family                             Attributes  \n",
       "count     29354                                  29357  \n",
       "unique      858                                   3133  \n",
       "top     Muridae  Terrestrial,Not a migrant,starts with  \n",
       "freq        764                                   8463  "
      ]
     },
     "execution_count": 6,
     "metadata": {},
     "output_type": "execute_result"
    }
   ],
   "source": [
    "# Data Understanding - Descriptive Statistic\n",
    "df.describe()"
   ]
  },
  {
   "cell_type": "code",
   "execution_count": null,
   "id": "8badae49-1f3b-4a53-9045-e769fa9a6824",
   "metadata": {},
   "outputs": [],
   "source": []
  }
 ],
 "metadata": {
  "kernelspec": {
   "display_name": "Python [conda env:base] *",
   "language": "python",
   "name": "conda-base-py"
  },
  "language_info": {
   "codemirror_mode": {
    "name": "ipython",
    "version": 3
   },
   "file_extension": ".py",
   "mimetype": "text/x-python",
   "name": "python",
   "nbconvert_exporter": "python",
   "pygments_lexer": "ipython3",
   "version": "3.12.7"
  }
 },
 "nbformat": 4,
 "nbformat_minor": 5
}
